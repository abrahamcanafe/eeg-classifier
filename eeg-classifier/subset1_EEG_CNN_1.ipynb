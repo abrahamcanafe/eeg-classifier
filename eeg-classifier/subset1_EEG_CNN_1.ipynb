{
 "cells": [
  {
   "attachments": {},
   "cell_type": "markdown",
   "metadata": {},
   "source": [
    "## EEG CNN (Subject 1)"
   ]
  },
  {
   "cell_type": "code",
   "execution_count": 1,
   "metadata": {},
   "outputs": [
    {
     "name": "stdout",
     "output_type": "stream",
     "text": [
      "Using pytorch version 1.13.1\n"
     ]
    }
   ],
   "source": [
    "import numpy as np\n",
    "import matplotlib.pyplot as plt\n",
    "import random\n",
    "import torch\n",
    "import torch.nn as nn\n",
    "import torch.nn.functional as F\n",
    "from torchinfo import summary\n",
    "from sklearn.model_selection import train_test_split\n",
    "from torch.autograd import Variable\n",
    "from nndl.architectures import DeepConvNet, DeepConvLSTM, DeepConvTransformer\n",
    "\n",
    "torch.cuda.empty_cache()\n",
    "print(f'Using pytorch version {torch.__version__}')"
   ]
  },
  {
   "cell_type": "code",
   "execution_count": 2,
   "metadata": {},
   "outputs": [
    {
     "name": "stdout",
     "output_type": "stream",
     "text": [
      "Training/Valid data shape: (2115, 22, 1000)\n",
      "Test data shape: (443, 22, 1000)\n",
      "Training/Valid target shape: (2115,)\n",
      "Test target shape: (443,)\n",
      "Person train/valid shape: (2115, 1)\n",
      "Person test shape: (443, 1)\n"
     ]
    }
   ],
   "source": [
    "# %% Data Loading #####\n",
    "my_path = r'/home/abrahamcanafe/PythonProjects/ECE247C/Final_Project/project_data/project/'\n",
    "\n",
    "X_test = np.load(my_path + 'X_test.npy')\n",
    "y_test = np.load(my_path + 'y_test.npy')\n",
    "person_train_valid = np.load(my_path + 'person_train_valid.npy')\n",
    "X_train_valid = np.load(my_path + 'X_train_valid.npy')\n",
    "y_train_valid = np.load(my_path + 'y_train_valid.npy')\n",
    "y_train_valid = (y_train_valid - np.min(y_train_valid)).astype('int')\n",
    "person_test = np.load(my_path + 'person_test.npy')\n",
    "\n",
    "print ('Training/Valid data shape: {}'.format(X_train_valid.shape))\n",
    "print ('Test data shape: {}'.format(X_test.shape))\n",
    "print ('Training/Valid target shape: {}'.format(y_train_valid.shape))\n",
    "print ('Test target shape: {}'.format(y_test.shape))\n",
    "print ('Person train/valid shape: {}'.format(person_train_valid.shape))\n",
    "print ('Person test shape: {}'.format(person_test.shape))"
   ]
  },
  {
   "attachments": {},
   "cell_type": "markdown",
   "metadata": {},
   "source": [
    "### Subject 1 data partitioning"
   ]
  },
  {
   "cell_type": "code",
   "execution_count": 3,
   "metadata": {},
   "outputs": [
    {
     "name": "stdout",
     "output_type": "stream",
     "text": [
      "(529,)\n"
     ]
    }
   ],
   "source": [
    "subject_1_train_val_inds = np.where(y_train_valid == 0)[0]\n",
    "#subject_1_test_inds = np.where(y_test == y_test.min())[0]\n",
    "print(subject_1_train_val_inds.shape)\n",
    "#print(subject_1_test_inds.shape)\n",
    "\n",
    "X_train_valid = X_train_valid[subject_1_train_val_inds, :, :]\n",
    "y_train_valid = y_train_valid[subject_1_train_val_inds]"
   ]
  },
  {
   "attachments": {},
   "cell_type": "markdown",
   "metadata": {},
   "source": [
    "### Data processing"
   ]
  },
  {
   "cell_type": "code",
   "execution_count": 4,
   "metadata": {},
   "outputs": [
    {
     "name": "stdout",
     "output_type": "stream",
     "text": [
      "True\n"
     ]
    }
   ],
   "source": [
    "# %% Check for cuda\n",
    "print(torch.cuda.is_available())\n",
    "device_id = 0 if torch.cuda.is_available() else 'cpu'\n",
    "device = torch.device(device_id)"
   ]
  },
  {
   "cell_type": "code",
   "execution_count": 5,
   "metadata": {},
   "outputs": [],
   "source": [
    "# %% ######### Data preparation with Gaussian Noise (credit to Tonmoy)\n",
    "def data_prep(X,y,sub_sample,average,noise):\n",
    "    \n",
    "    total_X = None\n",
    "    total_y = None\n",
    "    \n",
    "    # Trimming the data (sample,22,1000) -> (sample,22,500)\n",
    "    X = X[:,:,:] # <======================================================== different for 1 subject\n",
    "    print('Shape of X after trimming:',X.shape)\n",
    "    \n",
    "    # Maxpooling the data (sample,22,1000) -> (sample,22,500/sub_sample)\n",
    "    X_max = np.max(X.reshape(X.shape[0], X.shape[1], -1, sub_sample), axis=3)\n",
    "    \n",
    "    \n",
    "    total_X = X_max\n",
    "    total_y = y\n",
    "    print('Shape of X after maxpooling:',total_X.shape)\n",
    "    \n",
    "    # Averaging + noise \n",
    "    X_average = np.mean(X.reshape(X.shape[0], X.shape[1], -1, average),axis=3)\n",
    "    X_average = X_average + np.random.normal(0.0, 0.5, X_average.shape)\n",
    "    \n",
    "    total_X = np.vstack((total_X, X_average))\n",
    "    total_y = np.hstack((total_y, y))\n",
    "    print('Shape of X after averaging+noise and concatenating:',total_X.shape)\n",
    "    \n",
    "    # Subsampling\n",
    "    \n",
    "    for i in range(sub_sample):\n",
    "        \n",
    "        X_subsample = X[:, :, i::sub_sample] + \\\n",
    "                            (np.random.normal(0.0, 0.5, X[:, :,i::sub_sample].shape) if noise else 0.0)\n",
    "            \n",
    "        total_X = np.vstack((total_X, X_subsample))\n",
    "        total_y = np.hstack((total_y, y))\n",
    "        \n",
    "    \n",
    "    print('Shape of X after subsampling and concatenating:',total_X.shape)\n",
    "    return total_X,total_y\n"
   ]
  },
  {
   "cell_type": "code",
   "execution_count": 6,
   "metadata": {},
   "outputs": [],
   "source": [
    "# %% ###### Create dataset and DataLoader ######\n",
    "class CreateDataset(torch.utils.data.Dataset):\n",
    "    def __init__(self, X, Y):\n",
    "        if isinstance(X, np.ndarray):\n",
    "            self.X = torch.FloatTensor(X)\n",
    "        else:\n",
    "            self.X = X\n",
    "        if isinstance(Y, np.ndarray):\n",
    "            self.Y = torch.LongTensor(Y)\n",
    "        else:\n",
    "            self.Y = Y\n",
    "        return\n",
    "    \n",
    "    def __len__(self):\n",
    "        return len(self.X)\n",
    "    \n",
    "    def __getitem__(self, index):\n",
    "        return self.X[index], self.Y[index]"
   ]
  },
  {
   "cell_type": "code",
   "execution_count": 7,
   "metadata": {},
   "outputs": [],
   "source": [
    "# Select batch size\n",
    "batch_size = 64"
   ]
  },
  {
   "cell_type": "code",
   "execution_count": 8,
   "metadata": {},
   "outputs": [
    {
     "name": "stdout",
     "output_type": "stream",
     "text": [
      "Shape of X after trimming: (529, 22, 1000)\n",
      "Shape of X after maxpooling: (529, 22, 500)\n",
      "Shape of X after averaging+noise and concatenating: (1058, 22, 500)\n",
      "Shape of X after subsampling and concatenating: (2116, 22, 500)\n",
      "Shape of X after trimming: (443, 22, 1000)\n",
      "Shape of X after maxpooling: (443, 22, 500)\n",
      "Shape of X after averaging+noise and concatenating: (886, 22, 500)\n",
      "Shape of X after subsampling and concatenating: (1772, 22, 500)\n"
     ]
    }
   ],
   "source": [
    "### Transform data using techniques from Tonmoy's notebook\n",
    "X_train_valid_prep,y_train_valid_prep = data_prep(X_train_valid,y_train_valid,2,2,True)\n",
    "X_train_np, X_val_np, y_train_np, y_val_np = train_test_split(X_train_valid_prep,y_train_valid_prep, test_size=0.2, random_state=42) \n",
    "X_test_np,y_test_np = data_prep(X_test,y_test,2,2,True)\n",
    "\n",
    "n_train_instances, n_eeg_channels, n_time_steps = X_train_np.shape"
   ]
  },
  {
   "cell_type": "code",
   "execution_count": 9,
   "metadata": {},
   "outputs": [],
   "source": [
    "### Create torch tensors for training/validation/testing\n",
    "X_train = torch.FloatTensor(X_train_np).to(device)\n",
    "X_val = torch.FloatTensor(X_val_np).to(device)\n",
    "y_train = torch.LongTensor(y_train_np).to(device)\n",
    "y_val = torch.LongTensor(y_val_np).to(device)\n",
    "\n",
    "X_test = torch.FloatTensor(X_test_np).to(device)\n",
    "y_test = torch.LongTensor(y_test_np).to(device)\n",
    "\n",
    "train_dataset = CreateDataset(X_train, y_train) #### fix this later\n",
    "train_dataloader = torch.utils.data.DataLoader(train_dataset, batch_size, shuffle=True)\n",
    "\n",
    "val_dataset = CreateDataset(X_val, y_val)\n",
    "val_dataloader = torch.utils.data.DataLoader(val_dataset, batch_size, shuffle=False) "
   ]
  },
  {
   "attachments": {},
   "cell_type": "markdown",
   "metadata": {},
   "source": [
    "### Training"
   ]
  },
  {
   "cell_type": "code",
   "execution_count": 10,
   "metadata": {},
   "outputs": [
    {
     "name": "stderr",
     "output_type": "stream",
     "text": [
      "/home/abrahamcanafe/anaconda3/envs/jupyter-env/lib/python3.10/site-packages/torch/nn/modules/lazy.py:180: UserWarning: Lazy modules are a new feature under heavy development so changes to the API or functionality can happen at any moment.\n",
      "  warnings.warn('Lazy modules are a new feature under heavy development '\n",
      "100%|██████████████████████████████| 10/10 [00:03<00:00,  2.82it/s, acc=1, val_acc=1]       \n"
     ]
    }
   ],
   "source": [
    "# %% Training\n",
    "import tqdm\n",
    "torch.manual_seed(42)\n",
    "random.seed(42)\n",
    "np.random.seed(42)\n",
    "\n",
    "model = DeepConvNet(input_shape=(22,n_time_steps), n_input_channels = 22, n_spatial_filters=50, n_classes=4).to(device)\n",
    "#model = DeepConvLSTM().to(device)\n",
    "#model = DeepConvTransformer().to(device)\n",
    "\n",
    "optimizer = torch.optim.Adam(model.parameters(), lr = 0.0005, weight_decay=0.01) # 0.01 for MHA, 0.001 otherwise?\n",
    "celoss = nn.CrossEntropyLoss() # lr = 0.0005\n",
    "\n",
    "loss_hist = []\n",
    "val_loss_hist = []\n",
    "acc_hist = []\n",
    "val_acc_hist = []\n",
    "\n",
    "num_epochs =10\n",
    "pbar = tqdm.tqdm(range(num_epochs), position=0, leave=True,\n",
    "                 bar_format = '{l_bar}{bar: 30}{r_bar}')\n",
    "\n",
    "\n",
    "for epoch in pbar:\n",
    "    model.train()\n",
    "    for batch in train_dataloader:\n",
    "        optimizer.zero_grad()\n",
    "        x, y = batch\n",
    "        x = x.to(device)\n",
    "        y = y.to(device)\n",
    "        \n",
    "        out = model(x)\n",
    "        loss = celoss(out, y)\n",
    "        \n",
    "        loss.backward()\n",
    "        optimizer.step()\n",
    "        \n",
    "        loss_hist.append(loss.item())\n",
    "        \n",
    "        \n",
    "    model.eval()\n",
    "    n_samples = 0\n",
    "    n_correct = 0\n",
    "    with torch.no_grad():\n",
    "        for batch in train_dataloader:\n",
    "            x, y = batch\n",
    "            out = model(x)\n",
    "            n_samples += len(y)\n",
    "            n_correct += (out.max(1)[1] == y).detach().cpu().numpy().sum()\n",
    "            \n",
    "    acc_hist.append(n_correct / n_samples)    \n",
    "        \n",
    "    n_samples = 0\n",
    "    n_correct = 0\n",
    "    with torch.no_grad():\n",
    "        for batch in val_dataloader:\n",
    "            x, y = batch\n",
    "            out = model(x)\n",
    "            loss = celoss(out,y)\n",
    "            val_loss_hist.append(loss.item())\n",
    "            n_samples += len(y)\n",
    "            n_correct += (out.max(1)[1] == y).detach().cpu().numpy().sum()\n",
    "            \n",
    "    val_acc_hist.append(n_correct / n_samples)\n",
    "    \n",
    "    \n",
    "    pbar.set_postfix({'acc': acc_hist[-1], 'val_acc': val_acc_hist[-1]})"
   ]
  },
  {
   "attachments": {},
   "cell_type": "markdown",
   "metadata": {},
   "source": [
    "### Loss and Accuracy"
   ]
  },
  {
   "cell_type": "code",
   "execution_count": 11,
   "metadata": {},
   "outputs": [
    {
     "data": {
      "image/png": "[encoded data removed]",
      "text/plain": [
       "<Figure size 600x400 with 2 Axes>"
      ]
     },
     "metadata": {
      "needs_background": "light"
     },
     "output_type": "display_data"
    },
    {
     "data": {
      "image/png": "[encoded data removed]",
      "text/plain": [
       "<Figure size 600x400 with 1 Axes>"
      ]
     },
     "metadata": {
      "needs_background": "light"
     },
     "output_type": "display_data"
    }
   ],
   "source": [
    "# %% ##########\n",
    "plt.figure(dpi=100)\n",
    "plt.plot(loss_hist, label='training loss')\n",
    "#plt.yscale('log')\n",
    "plt.ylabel('loss')\n",
    "plt.legend() #loc='lower left')\n",
    "plt.xlabel('step (training)')\n",
    "plt.twiny()\n",
    "plt.plot(val_loss_hist, 'r', label='validation')\n",
    "plt.xlabel('step (validation loss)')\n",
    "plt.legend(loc='upper left')\n",
    "#plt.legend(['training loss','validation loss'])\n",
    "\n",
    "\n",
    "plt.figure(dpi=100)\n",
    "plt.plot(acc_hist)\n",
    "plt.plot(val_acc_hist)\n",
    "plt.xlabel('epoch')\n",
    "plt.ylabel('accuracy')\n",
    "plt.legend(['training accuracy', 'validation accuracy'])\n",
    "plt.grid()"
   ]
  },
  {
   "cell_type": "code",
   "execution_count": 12,
   "metadata": {},
   "outputs": [
    {
     "name": "stdout",
     "output_type": "stream",
     "text": [
      "Test Accuracy of CNN Model:  0.2528216704288939\n"
     ]
    }
   ],
   "source": [
    "# %% ########### Saving model parameters\n",
    "from sklearn.metrics import accuracy_score\n",
    "y_test_pred = np.argmax(model(X_test).cpu().detach().numpy(),axis=1)\n",
    "y_true = y_test.cpu().detach().numpy()\n",
    "y_true = y_true - y_true.min()\n",
    "\n",
    "acc = accuracy_score(y_true, y_test_pred)\n",
    "\n",
    "print('Test Accuracy of CNN Model: ', acc)"
   ]
  },
  {
   "cell_type": "markdown",
   "metadata": {},
   "source": [
    "#### Score report and confusion matrix"
   ]
  },
  {
   "cell_type": "code",
   "execution_count": 13,
   "metadata": {},
   "outputs": [
    {
     "name": "stdout",
     "output_type": "stream",
     "text": [
      "Precision:  0.21289129197495732\n",
      "Recall:  0.2518266297793857\n",
      "F1_score:  0.106200410834668\n"
     ]
    }
   ],
   "source": [
    "from sklearn.metrics import precision_recall_fscore_support\n",
    "from sklearn.metrics import confusion_matrix, ConfusionMatrixDisplay\n",
    "\n",
    "precision, recall, f1_score, _ = precision_recall_fscore_support(y_true, y_test_pred, average='macro')\n",
    "print('Precision: ', precision)\n",
    "print('Recall: ', recall)\n",
    "print('F1_score: ', f1_score)"
   ]
  },
  {
   "cell_type": "code",
   "execution_count": 14,
   "metadata": {},
   "outputs": [
    {
     "data": {
      "text/plain": [
       "<sklearn.metrics._plot.confusion_matrix.ConfusionMatrixDisplay at 0x7f4eb0fde110>"
      ]
     },
     "execution_count": 14,
     "metadata": {},
     "output_type": "execute_result"
    },
    {
     "data": {
      "image/png": "[encoded data removed]",
      "text/plain": [
       "<Figure size 432x288 with 2 Axes>"
      ]
     },
     "metadata": {
      "needs_background": "light"
     },
     "output_type": "display_data"
    }
   ],
   "source": [
    "cm = confusion_matrix(y_true, y_test_pred)\n",
    "class_names = {0:'Cue onset left', 1: 'Cue onset right', 2: 'Cue onset foot', 3: 'Cue onset tongue'}\n",
    "\n",
    "disp = ConfusionMatrixDisplay(confusion_matrix=cm)\n",
    "disp.plot()"
   ]
  }
 ],
 "metadata": {
  "kernelspec": {
   "display_name": "jupyter-env",
   "language": "python",
   "name": "python3"
  },
  "language_info": {
   "codemirror_mode": {
    "name": "ipython",
    "version": 3
   },
   "file_extension": ".py",
   "mimetype": "text/x-python",
   "name": "python",
   "nbconvert_exporter": "python",
   "pygments_lexer": "ipython3",
   "version": "3.10.9"
  },
  "orig_nbformat": 4,
  "vscode": {
   "interpreter": {
    "hash": "ae39fc5f172befe2137ef08fd5f7253bbfe5bbbd06248e5acadbf0449b38042e"
   }
  }
 },
 "nbformat": 4,
 "nbformat_minor": 2
}
